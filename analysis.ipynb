{
 "cells": [
  {
   "cell_type": "markdown",
   "metadata": {},
   "source": [
    "# ANALYSIS"
   ]
  },
  {
   "cell_type": "markdown",
   "metadata": {},
   "source": [
    "### import all libraries and read in the cleaned dataset"
   ]
  },
  {
   "cell_type": "code",
   "execution_count": 1,
   "metadata": {},
   "outputs": [],
   "source": [
    "import seaborn as sns\n",
    "import matplotlib.pyplot as plt\n",
    "import pandas as pd\n",
    "import numpy as np\n",
    "\n",
    "data = pd.read_csv('clean_dataframe.csv')"
   ]
  },
  {
   "cell_type": "markdown",
   "metadata": {},
   "source": [
    "# IMMIGRATION AND EMMIGRATION ANALYSES"
   ]
  },
  {
   "cell_type": "markdown",
   "metadata": {},
   "source": [
    "## Immigrants are going to be deduced by the number of single visitors and lodgers in the town"
   ]
  },
  {
   "cell_type": "code",
   "execution_count": 2,
   "metadata": {},
   "outputs": [
    {
     "data": {
      "text/plain": [
       "26.0"
      ]
     },
     "execution_count": 2,
     "metadata": {},
     "output_type": "execute_result"
    }
   ],
   "source": [
    "# immigrants are the single lodgers and visitors\n",
    "immigrants = data[\n",
    "    (data['Marital Status']=='Single') \n",
    "    &\n",
    "    ((data['Relationship to Head of House']=='Visitor') | (data['Relationship to Head of House']=='Lodger'))\n",
    "     ]\n",
    "\n",
    "#calculate immigration rate per ten thousand as number of immigrants per the total population\n",
    "immigration_rate = np.floor(len(immigrants)/len(data.index) *1000)\n",
    "immigration_rate"
   ]
  },
  {
   "cell_type": "markdown",
   "metadata": {},
   "source": [
    "### The immigration rate is 26 per  thousand"
   ]
  },
  {
   "cell_type": "markdown",
   "metadata": {},
   "source": [
    "## Emmigrants will be deduced by finding the difference between the number of male divorcees and female divorcees in the town who are lodgers or visitors"
   ]
  },
  {
   "cell_type": "code",
   "execution_count": 3,
   "metadata": {},
   "outputs": [
    {
     "data": {
      "text/plain": [
       "20.0"
      ]
     },
     "execution_count": 3,
     "metadata": {},
     "output_type": "execute_result"
    }
   ],
   "source": [
    "#female divorcees \n",
    "female = data[\n",
    "     ( (data['Marital Status']=='Divorced') & (data['Gender']=='Female') )\n",
    "            ]\n",
    "# male divorcees\n",
    "male = data[\n",
    "    ( (data['Marital Status']=='Divorced') & (data['Gender']=='Male') )\n",
    "    ]\n",
    "# calculate total population as lodgers or visitors who are divorced\n",
    "emmigrant_total_pop = data.index\n",
    "# find the difference between male and female divorcees\n",
    "emmigrants  =  len(female)-len(male)\n",
    "\n",
    "#emmigration rate per  thousand as number of emmigrants per the total population\n",
    "emmigration_rate = np.floor(emmigrants/len(emmigrant_total_pop)* 1000)\n",
    "emmigration_rate"
   ]
  },
  {
   "cell_type": "markdown",
   "metadata": {},
   "source": [
    "### the emmigration rate is 20 per thousand people"
   ]
  },
  {
   "cell_type": "markdown",
   "metadata": {},
   "source": [
    "## The immigration rate is higher than the emmigration rate so we can say the population is growing. but to get a more accurate idea of the population rate we have to calculate the birth and death rates"
   ]
  },
  {
   "cell_type": "markdown",
   "metadata": {},
   "source": [
    "# Birth Rate"
   ]
  },
  {
   "cell_type": "code",
   "execution_count": 4,
   "metadata": {},
   "outputs": [
    {
     "data": {
      "text/plain": [
       "9.0"
      ]
     },
     "execution_count": 4,
     "metadata": {},
     "output_type": "execute_result"
    }
   ],
   "source": [
    "# the total number of new born babies\n",
    "babies = data[data['Age'] == 0]\n",
    "birth_rate = np.floor((len(babies)/len(data.index))*1000)\n",
    "birth_rate"
   ]
  },
  {
   "cell_type": "markdown",
   "metadata": {},
   "source": [
    "### The birth rate is 9 births per thousand"
   ]
  },
  {
   "cell_type": "markdown",
   "metadata": {},
   "source": [
    "### Next we'll check if there has been a change in the birth rate in the past 5 years"
   ]
  },
  {
   "cell_type": "code",
   "execution_count": 5,
   "metadata": {},
   "outputs": [
    {
     "data": {
      "text/plain": [
       "14.0"
      ]
     },
     "execution_count": 5,
     "metadata": {},
     "output_type": "execute_result"
    }
   ],
   "source": [
    "#number of children who were born 5 years ago who will be 4 years old now\n",
    "four_kids = len(data[(data['Age'] ==4)])\n",
    "#calculate birth rate as number of newborns per entire population\n",
    "rate = np.floor((four_kids/len(data.index)) * 1000)\n",
    "rate"
   ]
  },
  {
   "cell_type": "markdown",
   "metadata": {},
   "source": [
    "### The birth rate five years ago was 14 births per thousand women, thus indicating that the birth rate has reduced in the past five years"
   ]
  },
  {
   "cell_type": "markdown",
   "metadata": {},
   "source": [
    "# Death Rate"
   ]
  },
  {
   "cell_type": "code",
   "execution_count": 6,
   "metadata": {},
   "outputs": [
    {
     "name": "stdout",
     "output_type": "stream",
     "text": [
      "78.0\n"
     ]
    }
   ],
   "source": [
    "#list to hold age bands\n",
    "age_bands = ['60-64','65-69','70-74','75-79','80-84','85-89','90-94','95 and above']\n",
    "#create list to hold names of age band dataframes\n",
    "bands = []\n",
    "for x in age_bands:\n",
    "    #check if the age band is correct\n",
    "    if len(x)>5:\n",
    "        #bind the age band to the list\n",
    "        bands.append(len(data[ data.Age>=int(x[0:2])]))\n",
    "    else:\n",
    "        bands.append(len(data[( data.Age >=int(x[0:2]) )& (data.Age<=int(x[3:]) )]))\n",
    "    \n",
    "#calculate death rate\n",
    "death_rate = 0\n",
    "#loop through the age bands\n",
    "for x in range( len(bands) ):\n",
    "    #make sure its not out of bounds\n",
    "    if x+1 < len(bands):\n",
    "        #calculate the death rate as the addition of the difference between the age bands\n",
    "        death_rate += bands[x]-bands[x+1]\n",
    "#divide the death rate by 5 to acount for per annum\n",
    "death_rate = np.floor(death_rate/5)\n",
    "print(death_rate)"
   ]
  },
  {
   "cell_type": "markdown",
   "metadata": {},
   "source": [
    "### the death rate per annum is 78 deaths per annum"
   ]
  },
  {
   "cell_type": "markdown",
   "metadata": {},
   "source": [
    "### To get a more accurate representation of the growth of the population, we'll add the difference between the birth and death rates to the difference betweeen the immigration and emmigration rates"
   ]
  },
  {
   "cell_type": "code",
   "execution_count": 7,
   "metadata": {},
   "outputs": [
    {
     "data": {
      "text/plain": [
       "-63.0"
      ]
     },
     "execution_count": 7,
     "metadata": {},
     "output_type": "execute_result"
    }
   ],
   "source": [
    "growth = (birth_rate-death_rate) + (immigration_rate-emmigration_rate)\n",
    "growth"
   ]
  },
  {
   "cell_type": "markdown",
   "metadata": {},
   "source": [
    "### We can see that the population is shrinking at 63 people per thousand every year"
   ]
  },
  {
   "cell_type": "markdown",
   "metadata": {},
   "source": [
    "# INFIRMITY AND SICKNESS"
   ]
  },
  {
   "cell_type": "code",
   "execution_count": 8,
   "metadata": {},
   "outputs": [
    {
     "data": {
      "image/png": "[encoded data removed]",
      "text/plain": [
       "<Figure size 720x360 with 1 Axes>"
      ]
     },
     "metadata": {
      "needs_background": "light"
     },
     "output_type": "display_data"
    }
   ],
   "source": [
    "# We will make a plot to show the population's distribution based on infirmity\n",
    "infirmity_plot = sns.catplot(data=data, kind=\"count\",x='Infirmity',aspect=2)"
   ]
  },
  {
   "cell_type": "markdown",
   "metadata": {},
   "source": [
    "### We see that there is a small population of infirmed citizens"
   ]
  },
  {
   "cell_type": "markdown",
   "metadata": {},
   "source": [
    "# RELIGION"
   ]
  },
  {
   "cell_type": "code",
   "execution_count": 9,
   "metadata": {},
   "outputs": [
    {
     "data": {
      "text/plain": [
       "<AxesSubplot:xlabel='Religion', ylabel='Age'>"
      ]
     },
     "execution_count": 9,
     "metadata": {},
     "output_type": "execute_result"
    },
    {
     "data": {
      "image/png": "[encoded data removed]",
      "text/plain": [
       "<Figure size 936x648 with 1 Axes>"
      ]
     },
     "metadata": {
      "needs_background": "light"
     },
     "output_type": "display_data"
    }
   ],
   "source": [
    "# PLot the religious distribution based on the citizens age\n",
    "fig, ax = plt.subplots(figsize=(13,9))\n",
    "sns.boxplot( data=data,ax =ax, x='Religion', y= 'Age')"
   ]
  },
  {
   "cell_type": "markdown",
   "metadata": {},
   "source": [
    "### We see that there is a large population of christians who might benefit from a church"
   ]
  },
  {
   "cell_type": "markdown",
   "metadata": {},
   "source": [
    "### We'll find the median age of each religion to determine which of them is rising"
   ]
  },
  {
   "cell_type": "code",
   "execution_count": 10,
   "metadata": {},
   "outputs": [
    {
     "name": "stdout",
     "output_type": "stream",
     "text": [
      "Median Age per Religion\n",
      "\n",
      "Catholic :  43.0\n",
      "None :  39.0\n",
      "Christian :  52.0\n",
      "Methodist :  43.0\n",
      "Not Applicable :  9.0\n",
      "Muslim :  34.0\n",
      "Jewish :  41.0\n",
      "Sikh :  30.0\n",
      "Buddist :  40.0\n",
      "Orthodoxy :  48.0\n"
     ]
    }
   ],
   "source": [
    "#bind religions to a variable\n",
    "religions = data.Religion.unique()\n",
    "# loop through religions and print their median age\n",
    "print(\"Median Age per Religion\\n\")\n",
    "for x in religions:\n",
    "    religion_ = data[data.Religion==x]\n",
    "    print(x, \": \", religion_.Age.median())"
   ]
  },
  {
   "cell_type": "markdown",
   "metadata": {},
   "source": [
    "# MARITAL STATUS AND DIVORCE"
   ]
  },
  {
   "cell_type": "markdown",
   "metadata": {},
   "source": [
    "### We will calculate the divorce rate to determine if there is a need for new housing"
   ]
  },
  {
   "cell_type": "code",
   "execution_count": 11,
   "metadata": {},
   "outputs": [
    {
     "data": {
      "image/png": "[encoded data removed]",
      "text/plain": [
       "<Figure size 360x360 with 1 Axes>"
      ]
     },
     "metadata": {
      "needs_background": "light"
     },
     "output_type": "display_data"
    }
   ],
   "source": [
    "# collect all divorced citizens\n",
    "divorced_ = data[data['Marital Status']=='Divorced']\n",
    "#create a count plot to see divorce rates based on gender\n",
    "divorce_plot = sns.catplot(data=divorced_,x='Gender', kind=\"count\")"
   ]
  },
  {
   "cell_type": "markdown",
   "metadata": {},
   "source": [
    "### reveals that there are more female divorcees than male divorcees, implying that male divorcees may depart town."
   ]
  },
  {
   "cell_type": "markdown",
   "metadata": {},
   "source": [
    "### Calculate divorce : marriage for the population"
   ]
  },
  {
   "cell_type": "code",
   "execution_count": 12,
   "metadata": {},
   "outputs": [
    {
     "name": "stdout",
     "output_type": "stream",
     "text": [
      "1177.0\n",
      "68.0\n"
     ]
    }
   ],
   "source": [
    "# obtain all married people\n",
    "married_ = len(data[(data['Marital Status']=='Married')])\n",
    "#divide the number of married people by 2 to get the number of married individuals\n",
    "married_individuals = married_/2\n",
    "# obtain a basic divorce count based on the divorced women in the population\n",
    "divorced_count = data[ (data.Gender=='Female') &  (data['Marital Status']=='Divorced') ]\n",
    "# calculate divorce : marriage\n",
    "divorce_ratio = len(divorced_count)/len(data.index) * married_individuals\n",
    "\n",
    "print(np.ceil(married_individuals))\n",
    "print(np.ceil(divorce_ratio))"
   ]
  },
  {
   "cell_type": "markdown",
   "metadata": {},
   "source": [
    "### divorce:marriage = 68 divorces for every 1177 marriage"
   ]
  },
  {
   "cell_type": "markdown",
   "metadata": {},
   "source": [
    "# POPULATION STATISTICS"
   ]
  },
  {
   "cell_type": "code",
   "execution_count": 13,
   "metadata": {},
   "outputs": [
    {
     "data": {
      "text/plain": [
       "Text(0.5, 1.0, 'Population Pyramid')"
      ]
     },
     "execution_count": 13,
     "metadata": {},
     "output_type": "execute_result"
    },
    {
     "data": {
      "image/png": "[encoded data removed]",
      "text/plain": [
       "<Figure size 842.4x595.44 with 1 Axes>"
      ]
     },
     "metadata": {
      "needs_background": "light"
     },
     "output_type": "display_data"
    }
   ],
   "source": [
    "#create list to hold age bins\n",
    "age_bands = ['0-4','5-9','10-14','15-19','20-24','25-29',\n",
    "            '30-34','35-39','40-44','45-49','50-54','55-59','60-64',\n",
    "            '65-69','70-74','75-79','80-84','85-89','90 plus']\n",
    "#create list to hold names of bins\n",
    "bins = []\n",
    "for x in age_bands:\n",
    "        if len(x) <5:\n",
    "                bins.append(data[ ( data.Age >=int(x[0]) ) & (data.Age <=int(x[2]) ) ] )\n",
    "        elif len(x) ==5:\n",
    "                 bins.append(data[( data.Age >=int(x[0:2]) )& (data.Age <=int(x[3:]) )])\n",
    "        else:\n",
    "                bins.append(data[ data.Age >=int(x[0:2])])\n",
    "                \n",
    "                \n",
    "#create lists to hold male and female entries\n",
    "male = list()\n",
    "female = list()\n",
    "#loop through the list of bins and append the ages to male and female lists\n",
    "for x in bins:\n",
    "        female.append(len(x[x['Gender'] =='Female'].index))\n",
    "        male.append(len(x[x['Gender'] =='Male'].index) * -1)\n",
    "        \n",
    "#make the dataframe we wil use to plot the population pyramid\n",
    "pyramid_df = pd.DataFrame({'Age' : age_bands, 'Male': male, 'Female': female})\n",
    "#plot the population pyramid\n",
    "dims = (11.7, 8.27)\n",
    "fig, ax = plt.subplots(figsize=dims)\n",
    "pop_pyramid = sns.barplot(x='Male', y='Age', data=pyramid_df, order=age_bands,\n",
    "color=('#F17E65'), label='Male',ax=ax)\n",
    "pop_pyramid = sns.barplot(x='Female', y='Age', data=pyramid_df, order=age_bands,\n",
    "color=('#60E053'), label='Female',ax=ax)\n",
    "pop_pyramid.legend()\n",
    "plt.title('Population Pyramid')"
   ]
  },
  {
   "cell_type": "markdown",
   "metadata": {},
   "source": [
    "# COMMUTERS"
   ]
  },
  {
   "cell_type": "markdown",
   "metadata": {},
   "source": [
    "### Commuters will include everyone who is a uni student (PhD or otherwise) and anyone whose job does not demand them to commute."
   ]
  },
  {
   "cell_type": "markdown",
   "metadata": {},
   "source": [
    "### First categorize all occupations into Employed, Unemployed, Student(Child), Uni Student, Retired"
   ]
  },
  {
   "cell_type": "code",
   "execution_count": 14,
   "metadata": {},
   "outputs": [],
   "source": [
    "# function to categorize occupations in population\n",
    "def cat_occupation(x):\n",
    "    if 'student' in x.Occupation.lower() and x.Age>=16:\n",
    "        return 'Uni Student'\n",
    "    elif 'retired' in x.Occupation.lower():\n",
    "        return 'Retired'\n",
    "    if 'child' in x.Occupation.lower() and x.Age<= 15:\n",
    "        return 'Student (Child)'\n",
    "    elif 'unemployed' in x['Occupation'].lower():\n",
    "        return 'Unemployed'\n",
    "    else:\n",
    "        return 'Employed'\n",
    "#create new column and fill it with applied function\n",
    "data['Occupation Category'] = data.apply (lambda x: cat_occupation(x), axis=1)"
   ]
  },
  {
   "cell_type": "markdown",
   "metadata": {},
   "source": [
    "### First we'll pick sample of occupations from the data"
   ]
  },
  {
   "cell_type": "code",
   "execution_count": 15,
   "metadata": {},
   "outputs": [],
   "source": [
    "# pick a sample size\n",
    "occupations = data.Occupation.sample(n=800)"
   ]
  },
  {
   "cell_type": "markdown",
   "metadata": {},
   "source": [
    "### Identify commuters"
   ]
  },
  {
   "cell_type": "code",
   "execution_count": 16,
   "metadata": {},
   "outputs": [
    {
     "name": "stdout",
     "output_type": "stream",
     "text": [
      "45.0\n",
      "66.0\n"
     ]
    }
   ],
   "source": [
    "# create a list to hold occupations that require commuting\n",
    "commuters = list()\n",
    "# loop through the list of sample occupations\n",
    "    #check the occupation for a list of keywords to determine if its a commuting occupation\n",
    "for y in occupations.unique():\n",
    "    if 'student' not in y.lower() and 'unemployed' not in y.lower() and 'retired' not in y.lower() and 'teacher' not in y.lower() and 'police' not in y.lower():\n",
    "        commuters.append(y)\n",
    "        \n",
    "# create a count to track number of commuters\n",
    "count = 0\n",
    "# loop through commuters list\n",
    "for x in commuters:\n",
    "    value = len(data[data.Occupation== x])\n",
    "    count +=value\n",
    "    \n",
    "# get uni students who are commuters\n",
    "uni_students = data[ (data['Occupation Category'] =='Uni Student')]\n",
    "# add the employed commuters to the uni students\n",
    "all_commuters = len(uni_students) + count\n",
    "# percentage of entire population that commute\n",
    "commuters_total = (all_commuters/len(data.index))\n",
    "#employed citizens\n",
    "employed = data[ data['Occupation Category'] =='Employed' ]\n",
    "#percentage of commuting working population\n",
    "commuters_employed = (all_commuters/ len(employed) )\n",
    "print(np.ceil(commuters_total *  100))\n",
    "print(np.ceil(commuters_employed * 100))"
   ]
  },
  {
   "cell_type": "markdown",
   "metadata": {},
   "source": [
    "### Approximately 45 percent of the total population commutes, while 65 percent of the working population commutes."
   ]
  },
  {
   "cell_type": "markdown",
   "metadata": {},
   "source": [
    "# OCCUPATION ANALYSIS"
   ]
  },
  {
   "cell_type": "code",
   "execution_count": 28,
   "metadata": {},
   "outputs": [
    {
     "name": "stdout",
     "output_type": "stream",
     "text": [
      "6.0\n",
      "9.0\n"
     ]
    }
   ],
   "source": [
    "unemployed = data[data['Occupation Category'] =='Unemployed' ] \n",
    "working_age = data[ (data.Age>16)& (data.Age<65) ]\n",
    "#percentage of unemployed working age population\n",
    "unemployed_working_age = len(unemployed)/len(working_age) * 100\n",
    "# percentage of unemployed population\n",
    "all_unemployed= len(unemployed)/len(data.index) * 100\n",
    "print(np.ceil( all_unemployed ) )\n",
    "print(np.ceil( unemployed_working_age ) )\n",
    "#plotting population's occupation based on age"
   ]
  },
  {
   "cell_type": "markdown",
   "metadata": {},
   "source": [
    "### Plot employment statistics"
   ]
  },
  {
   "cell_type": "code",
   "execution_count": 27,
   "metadata": {},
   "outputs": [
    {
     "data": {
      "image/png": "[encoded data removed]",
      "text/plain": [
       "<Figure size 1080x360 with 1 Axes>"
      ]
     },
     "metadata": {
      "needs_background": "light"
     },
     "output_type": "display_data"
    },
    {
     "data": {
      "image/png": "[encoded data removed]",
      "text/plain": [
       "<Figure size 576x576 with 1 Axes>"
      ]
     },
     "metadata": {
      "needs_background": "light"
     },
     "output_type": "display_data"
    }
   ],
   "source": [
    "occupation_plot = sns.catplot(data=data,aspect = 3,x='Occupation Category', kind=\"count\")\n",
    "fig, ax = plt.subplots(figsize=(8,8))\n",
    "occupation_by_age_ = sns.boxplot(data=data,ax=ax,x = 'Age', y ='Occupation Category')"
   ]
  },
  {
   "cell_type": "markdown",
   "metadata": {},
   "source": [
    "### There seems to be an outlier in the retired category"
   ]
  },
  {
   "cell_type": "code",
   "execution_count": 22,
   "metadata": {},
   "outputs": [
    {
     "data": {
      "text/html": [
       "<div>\n",
       "<style scoped>\n",
       "    .dataframe tbody tr th:only-of-type {\n",
       "        vertical-align: middle;\n",
       "    }\n",
       "\n",
       "    .dataframe tbody tr th {\n",
       "        vertical-align: top;\n",
       "    }\n",
       "\n",
       "    .dataframe thead th {\n",
       "        text-align: right;\n",
       "    }\n",
       "</style>\n",
       "<table border=\"1\" class=\"dataframe\">\n",
       "  <thead>\n",
       "    <tr style=\"text-align: right;\">\n",
       "      <th></th>\n",
       "      <th>House Number</th>\n",
       "      <th>Street</th>\n",
       "      <th>First Name</th>\n",
       "      <th>Surname</th>\n",
       "      <th>Age</th>\n",
       "      <th>Relationship to Head of House</th>\n",
       "      <th>Marital Status</th>\n",
       "      <th>Gender</th>\n",
       "      <th>Occupation</th>\n",
       "      <th>Infirmity</th>\n",
       "      <th>Religion</th>\n",
       "      <th>Occupation Category</th>\n",
       "    </tr>\n",
       "  </thead>\n",
       "  <tbody>\n",
       "    <tr>\n",
       "      <th>996</th>\n",
       "      <td>4</td>\n",
       "      <td>Fletcher Viaduct</td>\n",
       "      <td>Barry</td>\n",
       "      <td>Barrett</td>\n",
       "      <td>36</td>\n",
       "      <td>Husband</td>\n",
       "      <td>Married</td>\n",
       "      <td>Male</td>\n",
       "      <td>Retired Chief Technology Officer</td>\n",
       "      <td>None</td>\n",
       "      <td>None</td>\n",
       "      <td>Retired</td>\n",
       "    </tr>\n",
       "  </tbody>\n",
       "</table>\n",
       "</div>"
      ],
      "text/plain": [
       "     House Number            Street First Name  Surname  Age  \\\n",
       "996             4  Fletcher Viaduct      Barry  Barrett   36   \n",
       "\n",
       "    Relationship to Head of House Marital Status Gender  \\\n",
       "996                       Husband        Married   Male   \n",
       "\n",
       "                           Occupation Infirmity Religion Occupation Category  \n",
       "996  Retired Chief Technology Officer      None     None             Retired  "
      ]
     },
     "execution_count": 22,
     "metadata": {},
     "output_type": "execute_result"
    }
   ],
   "source": [
    "data[(data['Occupation Category']=='Retired') & (data.Age < 60)]"
   ]
  },
  {
   "cell_type": "markdown",
   "metadata": {},
   "source": [
    "### This particular person retired early"
   ]
  },
  {
   "cell_type": "markdown",
   "metadata": {},
   "source": [
    "# HOUSING AND OCCUPANCY"
   ]
  },
  {
   "cell_type": "code",
   "execution_count": 33,
   "metadata": {},
   "outputs": [
    {
     "name": "stdout",
     "output_type": "stream",
     "text": [
      "1\n",
      "2997\n",
      "2188\n"
     ]
    }
   ],
   "source": [
    "# create list to hold the number of residents in each house\n",
    "occupants_list = []\n",
    "# create variables to hold the unique values in  house number and street\n",
    "streets = data.Street.unique()\n",
    "numbers = data['House Number'].unique()\n",
    "#loop through each unique street\n",
    "for i in streets:\n",
    "    # loop through each house number on the street\n",
    "    for j in numbers:\n",
    "        # count the number of occupants for each house number in each street\n",
    "        occupants = len( data[ (data['House Number'] == j) & (data.Street == i)] )\n",
    "        # check if the street has a house with the right number\n",
    "        if occupants != 0:\n",
    "            #add the number of occupants to the list\n",
    "            occupants_list.append(occupants)\n",
    "            \n",
    "# get the mode occupancy rate\n",
    "occupancy_mode= pd.Series(occupants_list).mode()[0]\n",
    "# print(occupants_list)\n",
    "#count to track overcrowded homes\n",
    "total = 0\n",
    "for x in occupants_list:\n",
    "    #check if occupants is less than the occupancy mode\n",
    "    if occupancy_mode - x < 0:\n",
    "        #add one to the total\n",
    "        total +=1\n",
    "print(len(occupants_list))\n",
    "print(total)"
   ]
  },
  {
   "cell_type": "markdown",
   "metadata": {},
   "source": [
    "### there are 2188 overcrowded houses out of 2997"
   ]
  },
  {
   "cell_type": "code",
   "execution_count": null,
   "metadata": {},
   "outputs": [],
   "source": []
  }
 ],
 "metadata": {
  "interpreter": {
   "hash": "9a9843981a7a84a4524a7f15e181a3f5c4046417caddb85964626fdfc2bd031e"
  },
  "kernelspec": {
   "display_name": "Python 3",
   "language": "python",
   "name": "python3"
  },
  "language_info": {
   "codemirror_mode": {
    "name": "ipython",
    "version": 3
   },
   "file_extension": ".py",
   "mimetype": "text/x-python",
   "name": "python",
   "nbconvert_exporter": "python",
   "pygments_lexer": "ipython3",
   "version": "3.8.0"
  }
 },
 "nbformat": 4,
 "nbformat_minor": 2
}
